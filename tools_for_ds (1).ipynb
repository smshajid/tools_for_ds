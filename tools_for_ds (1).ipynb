{
  "metadata": {
    "language_info": {
      "codemirror_mode": {
        "name": "python",
        "version": 3
      },
      "file_extension": ".py",
      "mimetype": "text/x-python",
      "name": "python",
      "nbconvert_exporter": "python",
      "pygments_lexer": "ipython3",
      "version": "3.8"
    },
    "kernelspec": {
      "name": "python",
      "display_name": "Python (Pyodide)",
      "language": "python"
    }
  },
  "nbformat_minor": 4,
  "nbformat": 4,
  "cells": [
    {
      "cell_type": "markdown",
      "source": "# Tools for Data Science",
      "metadata": {}
    },
    {
      "cell_type": "markdown",
      "source": "This is my python notebook for the final assesment of this course. Here I have done assignments given as final assesment.",
      "metadata": {}
    },
    {
      "cell_type": "markdown",
      "source": "### Data Science languages\n* Python.\n* R.\n* SQL.\n* Java.\n* Julia.\n* Scala.\n* C/C++.\n* JavaScript.",
      "metadata": {}
    },
    {
      "cell_type": "markdown",
      "source": "### Some of the commonly used libraries used by Data Scientists include:\n* TensorFlow.\n* NumPy.\n* SciPy.\n* Pandas.\n* Matplotlib.\n* Keras.\n* SciKit-Learn.\n* PyTorch.\n* Scrapy.\n* BeautifulSoup.\n* PyBrain.\n* Caffe.",
      "metadata": {}
    },
    {
      "cell_type": "markdown",
      "source": "### Data Science Tools:\n|Tools|  DescripTion |\n|-----|--------------|\n|Apache Spark| Apache Spark is an open-source unified analytics engine for large-scale data processing.|\n|TensorFlow| TensorFlow is a free and open-source software library for machine learning and artificial intelligence.|\n|Excel|Microsoft Excel is a spreadsheet editor developed by Microsoft for Windows, macOS, Android, iOS and iPadOS.|\n|Keras|Keras is an open-source library that provides a Python interface for artificial neural networks.|",
      "metadata": {}
    },
    {
      "cell_type": "markdown",
      "source": "### arithmetic expression examples\n2+3",
      "metadata": {}
    },
    {
      "cell_type": "markdown",
      "source": "### a code cell to multiply and add numbers",
      "metadata": {}
    },
    {
      "cell_type": "code",
      "source": "(2+4)*7\n",
      "metadata": {
        "trusted": true
      },
      "execution_count": 5,
      "outputs": [
        {
          "execution_count": 5,
          "output_type": "execute_result",
          "data": {
            "text/plain": "42"
          },
          "metadata": {}
        }
      ]
    },
    {
      "cell_type": "markdown",
      "source": "### a code cell to convert minutes to hours",
      "metadata": {}
    },
    {
      "cell_type": "code",
      "source": "hours=100\nminutes=hours/60\nminutes",
      "metadata": {
        "trusted": true
      },
      "execution_count": 6,
      "outputs": [
        {
          "execution_count": 6,
          "output_type": "execute_result",
          "data": {
            "text/plain": "1.6666666666666667"
          },
          "metadata": {}
        }
      ]
    },
    {
      "cell_type": "markdown",
      "source": "### a markdown cell to list Objectives",
      "metadata": {}
    },
    {
      "cell_type": "markdown",
      "source": "* List popular languages that Data Scientists use.\n* List commonly used libraries used by Data Scientists.\n* Comment on Data Science tools.",
      "metadata": {}
    },
    {
      "cell_type": "markdown",
      "source": "### a markdown cell to indicate the Author’s name",
      "metadata": {}
    },
    {
      "cell_type": "markdown",
      "source": "Md Sherajul Monir Shajid",
      "metadata": {}
    }
  ]
}